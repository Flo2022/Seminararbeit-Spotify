{
 "cells": [
  {
   "cell_type": "code",
   "execution_count": 1,
   "id": "d5f2ac1b",
   "metadata": {},
   "outputs": [],
   "source": [
    "import pandas as pd\n",
    "import matplotlib.pyplot as plt  # To visualize\n",
    "import tensorflow as tf\n",
    "import seaborn as sns\n",
    "from sklearn.model_selection import train_test_split\n",
    "from sklearn.ensemble import RandomForestRegressor\n",
    "from sklearn.neighbors import KNeighborsRegressor\n",
    "from sklearn.linear_model import LinearRegression\n",
    "from sklearn.metrics import mean_absolute_error, mean_squared_error\n",
    "from sklearn import preprocessing, svm\n"
   ]
  },
  {
   "cell_type": "code",
   "execution_count": 2,
   "id": "e75c1e58",
   "metadata": {},
   "outputs": [],
   "source": [
    "# Datensatz von https://www.kaggle.com/lehaknarnauli/spotify-datasets?select=tracks.csv\n",
    "df = pd.read_csv(\"tracks.csv\")"
   ]
  },
  {
   "cell_type": "code",
   "execution_count": 22,
   "id": "de430062",
   "metadata": {},
   "outputs": [
    {
     "name": "stdout",
     "output_type": "stream",
     "text": [
      "first_quantile in percent:  0.4702644748684103\n",
      "second_quantile in percent:  0.41109512640794177\n",
      "third_quantile in percent:  0.11451032263343061\n",
      "fourth_quantile in percent:  0.004130076090217361\n"
     ]
    }
   ],
   "source": [
    "first_quantile_sum = df.loc[df[\"popularity\"] <= 25, \"popularity\"].count()\n",
    "second_quantile_sum = df.loc[(df[\"popularity\"] > 25) & (df[\"popularity\"] <= 50), \"popularity\"].count()\n",
    "third_quantile_sum = df.loc[(df[\"popularity\"] > 50) & (df[\"popularity\"] <= 75), \"popularity\"].count()\n",
    "fourth_quantile_sum = df.loc[(df[\"popularity\"] > 75) & (df[\"popularity\"] <= 100), \"popularity\"].count()\n",
    "\n",
    "first_quantile_percent = first_quantile_sum / df[\"popularity\"].count()\n",
    "second_quantile_percent = second_quantile_sum / df[\"popularity\"].count()\n",
    "third_quantile_percent = third_quantile_sum / df[\"popularity\"].count()\n",
    "fourth_quantile_percent = fourth_quantile_sum / df[\"popularity\"].count()\n",
    "\n",
    "print(\"first_quantile in percent: \", first_quantile_percent)\n",
    "print(\"second_quantile in percent: \", second_quantile_percent)\n",
    "print(\"third_quantile in percent: \", third_quantile_percent)\n",
    "print(\"fourth_quantile in percent: \", fourth_quantile_percent)"
   ]
  }
 ],
 "metadata": {
  "kernelspec": {
   "display_name": "Python 3 (ipykernel)",
   "language": "python",
   "name": "python3"
  },
  "language_info": {
   "codemirror_mode": {
    "name": "ipython",
    "version": 3
   },
   "file_extension": ".py",
   "mimetype": "text/x-python",
   "name": "python",
   "nbconvert_exporter": "python",
   "pygments_lexer": "ipython3",
   "version": "3.8.3"
  }
 },
 "nbformat": 4,
 "nbformat_minor": 5
}

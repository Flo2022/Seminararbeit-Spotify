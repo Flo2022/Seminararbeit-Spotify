{
 "cells": [
  {
   "cell_type": "code",
   "execution_count": 1,
   "id": "c47736c6",
   "metadata": {},
   "outputs": [],
   "source": [
    "import pandas as pd\n",
    "import numpy as np\n",
    "import sklearn\n",
    "import seaborn as sns\n",
    "\n",
    "import matplotlib.pyplot as plt  \n",
    "from sklearn.model_selection import train_test_split\n",
    "from sklearn.ensemble import RandomForestClassifier\n",
    "from sklearn.metrics import mean_absolute_error\n",
    "\n",
    "\n",
    "\n",
    "\n",
    "\n"
   ]
  },
  {
   "cell_type": "code",
   "execution_count": 2,
   "id": "71c7fee8",
   "metadata": {},
   "outputs": [],
   "source": [
    "# Datensatz von https://www.kaggle.com/lehaknarnauli/spotify-datasets?select=tracks.csv\n",
    "df = pd.read_csv(\"./preprocessed_tracks.csv\")\n"
   ]
  },
  {
   "cell_type": "code",
   "execution_count": 3,
   "id": "e8ba9809",
   "metadata": {},
   "outputs": [
    {
     "data": {
      "text/plain": [
       "(586672, 24)"
      ]
     },
     "execution_count": 3,
     "metadata": {},
     "output_type": "execute_result"
    }
   ],
   "source": [
    "# Datensatz besitzt 586.672 unterschiedliche Songs und 20 Features\n",
    "df.shape\n"
   ]
  },
  {
   "cell_type": "code",
   "execution_count": 4,
   "id": "5f7ec53c",
   "metadata": {},
   "outputs": [
    {
     "name": "stdout",
     "output_type": "stream",
     "text": [
      "<class 'pandas.core.frame.DataFrame'>\n",
      "RangeIndex: 586672 entries, 0 to 586671\n",
      "Data columns (total 24 columns):\n",
      " #   Column            Non-Null Count   Dtype  \n",
      "---  ------            --------------   -----  \n",
      " 0   Unnamed: 0        586672 non-null  int64  \n",
      " 1   id                586672 non-null  object \n",
      " 2   name              586672 non-null  int64  \n",
      " 3   popularity        586672 non-null  int64  \n",
      " 4   duration_ms       586672 non-null  int64  \n",
      " 5   explicit          586672 non-null  int64  \n",
      " 6   artists           586672 non-null  object \n",
      " 7   id_artists        586672 non-null  int64  \n",
      " 8   release_date      586672 non-null  object \n",
      " 9   danceability      586672 non-null  float64\n",
      " 10  energy            586672 non-null  float64\n",
      " 11  key               586672 non-null  int64  \n",
      " 12  loudness          586672 non-null  float64\n",
      " 13  mode              586672 non-null  int64  \n",
      " 14  speechiness       586672 non-null  float64\n",
      " 15  acousticness      586672 non-null  float64\n",
      " 16  instrumentalness  586672 non-null  float64\n",
      " 17  liveness          586672 non-null  float64\n",
      " 18  valence           586672 non-null  float64\n",
      " 19  tempo             586672 non-null  float64\n",
      " 20  time_signature    586672 non-null  int64  \n",
      " 21  year              586672 non-null  int64  \n",
      " 22  month             450183 non-null  float64\n",
      " 23  day               448081 non-null  float64\n",
      "dtypes: float64(11), int64(10), object(3)\n",
      "memory usage: 107.4+ MB\n"
     ]
    }
   ],
   "source": [
    "df.info()\n"
   ]
  },
  {
   "cell_type": "code",
   "execution_count": 5,
   "id": "8a92e994",
   "metadata": {},
   "outputs": [
    {
     "data": {
      "text/plain": [
       "Unnamed: 0          586672\n",
       "id                  586672\n",
       "name                446475\n",
       "popularity             101\n",
       "duration_ms         123122\n",
       "explicit                 2\n",
       "artists             114030\n",
       "id_artists          115062\n",
       "release_date         19700\n",
       "danceability          1285\n",
       "energy                2571\n",
       "key                     12\n",
       "loudness             29196\n",
       "mode                     2\n",
       "speechiness           1655\n",
       "acousticness          5217\n",
       "instrumentalness      5402\n",
       "liveness              1782\n",
       "valence               1805\n",
       "tempo               122706\n",
       "time_signature           5\n",
       "year                   101\n",
       "month                   12\n",
       "day                     31\n",
       "dtype: int64"
      ]
     },
     "execution_count": 5,
     "metadata": {},
     "output_type": "execute_result"
    }
   ],
   "source": [
    "# 586672 Zeilen \n",
    "df.nunique()"
   ]
  },
  {
   "cell_type": "code",
   "execution_count": 6,
   "id": "1d4f4c2c",
   "metadata": {},
   "outputs": [
    {
     "data": {
      "image/png": "[encoded data removed]",
      "text/plain": [
       "<Figure size 432x288 with 1 Axes>"
      ]
     },
     "metadata": {
      "needs_background": "light"
     },
     "output_type": "display_data"
    }
   ],
   "source": [
    "popularity_plot = df.groupby('popularity').name.count().plot.line()\n",
    "popularity_plot.set_title('Popularitätsverteilung')\n",
    "popularity_plot.set_xlabel(\"Popularität\")\n",
    "popularity_plot.set_ylabel(\"Anzahl\")\n",
    "popularity_plot.figure.savefig('./Popularitätsverteilung')"
   ]
  },
  {
   "cell_type": "code",
   "execution_count": null,
   "id": "7923692e",
   "metadata": {},
   "outputs": [],
   "source": []
  },
  {
   "cell_type": "code",
   "execution_count": null,
   "id": "152b1900",
   "metadata": {},
   "outputs": [],
   "source": []
  }
 ],
 "metadata": {
  "kernelspec": {
   "display_name": "Python 3 (ipykernel)",
   "language": "python",
   "name": "python3"
  },
  "language_info": {
   "codemirror_mode": {
    "name": "ipython",
    "version": 3
   },
   "file_extension": ".py",
   "mimetype": "text/x-python",
   "name": "python",
   "nbconvert_exporter": "python",
   "pygments_lexer": "ipython3",
   "version": "3.9.7"
  }
 },
 "nbformat": 4,
 "nbformat_minor": 5
}
